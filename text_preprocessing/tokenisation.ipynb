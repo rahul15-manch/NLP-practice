{
 "cells": [
  {
   "cell_type": "code",
   "execution_count": 2,
   "id": "803da16c",
   "metadata": {},
   "outputs": [],
   "source": [
    "import nltk"
   ]
  },
  {
   "cell_type": "code",
   "execution_count": 26,
   "id": "4d0f5ad0",
   "metadata": {},
   "outputs": [],
   "source": [
    "corpus=\"\"\" Hello lets learn NLP .\n",
    "let's learn tokenisation! and become expert in nlp.\"\"\"\n"
   ]
  },
  {
   "cell_type": "code",
   "execution_count": 16,
   "id": "71322715",
   "metadata": {},
   "outputs": [
    {
     "data": {
      "text/plain": [
       "' Hello lets learn NLP .\\nlets learn tokenisation! and become expert in nlp.'"
      ]
     },
     "execution_count": 16,
     "metadata": {},
     "output_type": "execute_result"
    }
   ],
   "source": [
    "corpus"
   ]
  },
  {
   "cell_type": "code",
   "execution_count": 17,
   "id": "32b7741f",
   "metadata": {},
   "outputs": [
    {
     "name": "stdout",
     "output_type": "stream",
     "text": [
      " Hello lets learn NLP .\n",
      "lets learn tokenisation! and become expert in nlp.\n"
     ]
    }
   ],
   "source": [
    "print(corpus)"
   ]
  },
  {
   "cell_type": "code",
   "execution_count": 18,
   "id": "35b14832",
   "metadata": {},
   "outputs": [
    {
     "name": "stderr",
     "output_type": "stream",
     "text": [
      "[nltk_data] Downloading package punkt to\n",
      "[nltk_data]     /Users/rahulmanchanda/nltk_data...\n",
      "[nltk_data]   Package punkt is already up-to-date!\n",
      "[nltk_data] Downloading package punkt_tab to\n",
      "[nltk_data]     /Users/rahulmanchanda/nltk_data...\n",
      "[nltk_data]   Package punkt_tab is already up-to-date!\n"
     ]
    },
    {
     "data": {
      "text/plain": [
       "True"
      ]
     },
     "execution_count": 18,
     "metadata": {},
     "output_type": "execute_result"
    }
   ],
   "source": [
    "nltk.download(\"punkt\")\n",
    "nltk.download(\"punkt_tab\")"
   ]
  },
  {
   "cell_type": "code",
   "execution_count": 21,
   "id": "0e9f9878",
   "metadata": {},
   "outputs": [],
   "source": [
    "#paragraph -->sentence"
   ]
  },
  {
   "cell_type": "code",
   "execution_count": 19,
   "id": "0c88f0f6",
   "metadata": {},
   "outputs": [
    {
     "data": {
      "text/plain": [
       "[' Hello lets learn NLP .',\n",
       " 'lets learn tokenisation!',\n",
       " 'and become expert in nlp.']"
      ]
     },
     "execution_count": 19,
     "metadata": {},
     "output_type": "execute_result"
    }
   ],
   "source": [
    "from nltk.tokenize import sent_tokenize\n",
    "sent_tokenize(corpus)\n"
   ]
  },
  {
   "cell_type": "code",
   "execution_count": 20,
   "id": "b909e853",
   "metadata": {},
   "outputs": [
    {
     "name": "stdout",
     "output_type": "stream",
     "text": [
      " Hello lets learn NLP .\n",
      "lets learn tokenisation!\n",
      "and become expert in nlp.\n"
     ]
    }
   ],
   "source": [
    "document=sent_tokenize(corpus)\n",
    "for sentence in document:\n",
    "    print(sentence)"
   ]
  },
  {
   "cell_type": "code",
   "execution_count": 22,
   "id": "b89bc676",
   "metadata": {},
   "outputs": [],
   "source": [
    "## paragraph -->word\n",
    "## sentence-->word\n"
   ]
  },
  {
   "cell_type": "code",
   "execution_count": 23,
   "id": "717bcbfa",
   "metadata": {},
   "outputs": [
    {
     "data": {
      "text/plain": [
       "['Hello',\n",
       " 'lets',\n",
       " 'learn',\n",
       " 'NLP',\n",
       " '.',\n",
       " 'lets',\n",
       " 'learn',\n",
       " 'tokenisation',\n",
       " '!',\n",
       " 'and',\n",
       " 'become',\n",
       " 'expert',\n",
       " 'in',\n",
       " 'nlp',\n",
       " '.']"
      ]
     },
     "execution_count": 23,
     "metadata": {},
     "output_type": "execute_result"
    }
   ],
   "source": [
    "from nltk.tokenize import word_tokenize\n",
    "word_tokenize(corpus)"
   ]
  },
  {
   "cell_type": "code",
   "execution_count": 24,
   "id": "7438c90c",
   "metadata": {},
   "outputs": [
    {
     "name": "stdout",
     "output_type": "stream",
     "text": [
      "Hello\n",
      "lets\n",
      "learn\n",
      "NLP\n",
      ".\n",
      "lets\n",
      "learn\n",
      "tokenisation\n",
      "!\n",
      "and\n",
      "become\n",
      "expert\n",
      "in\n",
      "nlp\n",
      ".\n"
     ]
    }
   ],
   "source": [
    "document=word_tokenize(corpus)\n",
    "for word in document:\n",
    "    print(word)"
   ]
  },
  {
   "cell_type": "code",
   "execution_count": 27,
   "id": "576f8748",
   "metadata": {},
   "outputs": [
    {
     "data": {
      "text/plain": [
       "['Hello',\n",
       " 'lets',\n",
       " 'learn',\n",
       " 'NLP',\n",
       " '.',\n",
       " 'let',\n",
       " \"'\",\n",
       " 's',\n",
       " 'learn',\n",
       " 'tokenisation',\n",
       " '!',\n",
       " 'and',\n",
       " 'become',\n",
       " 'expert',\n",
       " 'in',\n",
       " 'nlp',\n",
       " '.']"
      ]
     },
     "execution_count": 27,
     "metadata": {},
     "output_type": "execute_result"
    }
   ],
   "source": [
    "from nltk.tokenize import wordpunct_tokenize\n",
    "wordpunct_tokenize(corpus)"
   ]
  },
  {
   "cell_type": "code",
   "execution_count": 29,
   "id": "0286c7f9",
   "metadata": {},
   "outputs": [],
   "source": [
    "from nltk.tokenize import TreebankWordTokenizer\n",
    "tokenizer=TreebankWordTokenizer()"
   ]
  },
  {
   "cell_type": "code",
   "execution_count": 30,
   "id": "e5f68243",
   "metadata": {},
   "outputs": [
    {
     "data": {
      "text/plain": [
       "['Hello',\n",
       " 'lets',\n",
       " 'learn',\n",
       " 'NLP',\n",
       " '.',\n",
       " 'let',\n",
       " \"'s\",\n",
       " 'learn',\n",
       " 'tokenisation',\n",
       " '!',\n",
       " 'and',\n",
       " 'become',\n",
       " 'expert',\n",
       " 'in',\n",
       " 'nlp',\n",
       " '.']"
      ]
     },
     "execution_count": 30,
     "metadata": {},
     "output_type": "execute_result"
    }
   ],
   "source": [
    "tokenizer.tokenize(corpus)"
   ]
  },
  {
   "cell_type": "code",
   "execution_count": 32,
   "id": "13546399",
   "metadata": {},
   "outputs": [
    {
     "name": "stdout",
     "output_type": "stream",
     "text": [
      "['I', '❤', '️', 'NLP', '!', '#AI', '@rahul']\n"
     ]
    }
   ],
   "source": [
    "from nltk.tokenize import TweetTokenizer\n",
    "tknzr = TweetTokenizer()\n",
    "print(tknzr.tokenize(\"I ❤️ NLP! #AI @rahul\"))\n"
   ]
  },
  {
   "cell_type": "code",
   "execution_count": null,
   "id": "287cb64a",
   "metadata": {},
   "outputs": [],
   "source": []
  }
 ],
 "metadata": {
  "kernelspec": {
   "display_name": "venv",
   "language": "python",
   "name": "python3"
  },
  "language_info": {
   "codemirror_mode": {
    "name": "ipython",
    "version": 3
   },
   "file_extension": ".py",
   "mimetype": "text/x-python",
   "name": "python",
   "nbconvert_exporter": "python",
   "pygments_lexer": "ipython3",
   "version": "3.13.5"
  }
 },
 "nbformat": 4,
 "nbformat_minor": 5
}
