{
 "cells": [
  {
   "cell_type": "code",
   "execution_count": 7,
   "id": "9e15c664",
   "metadata": {},
   "outputs": [],
   "source": [
    "import nltk"
   ]
  },
  {
   "cell_type": "code",
   "execution_count": 8,
   "id": "1d45c63f",
   "metadata": {},
   "outputs": [],
   "source": [
    "words=[\"happiness\",\"eating\",\"going\",\"gone\",\"goes\",\"sadness\",\"disabled\",\"extremist\",\"programming\",\"programs\"]"
   ]
  },
  {
   "cell_type": "code",
   "execution_count": 9,
   "id": "f31fbcd1",
   "metadata": {},
   "outputs": [],
   "source": [
    "from nltk.stem import WordNetLemmatizer"
   ]
  },
  {
   "cell_type": "code",
   "execution_count": 10,
   "id": "3d151483",
   "metadata": {},
   "outputs": [],
   "source": [
    "lem=WordNetLemmatizer()"
   ]
  },
  {
   "cell_type": "code",
   "execution_count": 11,
   "id": "51cdb088",
   "metadata": {},
   "outputs": [
    {
     "name": "stderr",
     "output_type": "stream",
     "text": [
      "[nltk_data] Downloading package wordnet to\n",
      "[nltk_data]     /Users/rahulmanchanda/nltk_data...\n",
      "[nltk_data] Downloading package omw-1.4 to\n",
      "[nltk_data]     /Users/rahulmanchanda/nltk_data...\n"
     ]
    },
    {
     "data": {
      "text/plain": [
       "True"
      ]
     },
     "execution_count": 11,
     "metadata": {},
     "output_type": "execute_result"
    }
   ],
   "source": [
    "nltk.download('wordnet')\n",
    "nltk.download('omw-1.4')  "
   ]
  },
  {
   "cell_type": "code",
   "execution_count": 13,
   "id": "2d4cdcce",
   "metadata": {},
   "outputs": [
    {
     "data": {
      "text/plain": [
       "'go'"
      ]
     },
     "execution_count": 13,
     "metadata": {},
     "output_type": "execute_result"
    }
   ],
   "source": [
    "lem.lemmatize(\"going\",pos=\"v\")"
   ]
  },
  {
   "cell_type": "code",
   "execution_count": 14,
   "id": "0c017084",
   "metadata": {},
   "outputs": [
    {
     "name": "stdout",
     "output_type": "stream",
     "text": [
      "happiness ---> happiness\n",
      "eating ---> eat\n",
      "going ---> go\n",
      "gone ---> go\n",
      "goes ---> go\n",
      "sadness ---> sadness\n",
      "disabled ---> disable\n",
      "extremist ---> extremist\n",
      "programming ---> program\n",
      "programs ---> program\n"
     ]
    }
   ],
   "source": [
    "for word in words:\n",
    "    print(word,\"--->\",lem.lemmatize(word,pos=\"v\"))"
   ]
  },
  {
   "cell_type": "code",
   "execution_count": 15,
   "id": "256b3d42",
   "metadata": {},
   "outputs": [
    {
     "name": "stdout",
     "output_type": "stream",
     "text": [
      "happiness ---> happiness\n",
      "eating ---> eating\n",
      "going ---> going\n",
      "gone ---> gone\n",
      "goes ---> goes\n",
      "sadness ---> sadness\n",
      "disabled ---> disabled\n",
      "extremist ---> extremist\n",
      "programming ---> programming\n",
      "programs ---> programs\n"
     ]
    }
   ],
   "source": [
    "for word in words:\n",
    "    print(word,\"--->\",lem.lemmatize(word,pos=\"a\"))"
   ]
  },
  {
   "cell_type": "code",
   "execution_count": 16,
   "id": "defcd3c2",
   "metadata": {},
   "outputs": [
    {
     "data": {
      "text/plain": [
       "'fairly'"
      ]
     },
     "execution_count": 16,
     "metadata": {},
     "output_type": "execute_result"
    }
   ],
   "source": [
    "lem.lemmatize(\"fairly\",pos=\"v\")"
   ]
  },
  {
   "cell_type": "code",
   "execution_count": null,
   "id": "9436e6bd",
   "metadata": {},
   "outputs": [],
   "source": []
  }
 ],
 "metadata": {
  "kernelspec": {
   "display_name": "venv",
   "language": "python",
   "name": "python3"
  },
  "language_info": {
   "codemirror_mode": {
    "name": "ipython",
    "version": 3
   },
   "file_extension": ".py",
   "mimetype": "text/x-python",
   "name": "python",
   "nbconvert_exporter": "python",
   "pygments_lexer": "ipython3",
   "version": "3.13.5"
  }
 },
 "nbformat": 4,
 "nbformat_minor": 5
}
