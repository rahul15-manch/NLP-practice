{
 "cells": [
  {
   "cell_type": "code",
   "execution_count": 6,
   "id": "ea972b8e",
   "metadata": {},
   "outputs": [],
   "source": [
    "corpus=\"I love NLP. NLP is fun. I love Python\""
   ]
  },
  {
   "cell_type": "code",
   "execution_count": 7,
   "id": "c1ab7d64",
   "metadata": {},
   "outputs": [
    {
     "data": {
      "text/plain": [
       "'I love NLP. NLP is fun. I love Python'"
      ]
     },
     "execution_count": 7,
     "metadata": {},
     "output_type": "execute_result"
    }
   ],
   "source": [
    "corpus"
   ]
  },
  {
   "cell_type": "code",
   "execution_count": 8,
   "id": "58ee8803",
   "metadata": {},
   "outputs": [],
   "source": [
    "import nltk"
   ]
  },
  {
   "cell_type": "code",
   "execution_count": 9,
   "id": "f9b3a694",
   "metadata": {},
   "outputs": [
    {
     "name": "stdout",
     "output_type": "stream",
     "text": [
      "['I love NLP.', 'NLP is fun.', 'I love Python']\n"
     ]
    }
   ],
   "source": [
    "from nltk.tokenize import sent_tokenize\n",
    "sent=nltk.sent_tokenize(corpus)\n",
    "print(sent)"
   ]
  },
  {
   "cell_type": "code",
   "execution_count": 10,
   "id": "bb63945e",
   "metadata": {},
   "outputs": [],
   "source": [
    "tokens = [sentence.split() for sentence in sent]\n",
    "flat_tokens = [word.lower() for sublist in tokens for word in sublist]\n"
   ]
  },
  {
   "cell_type": "code",
   "execution_count": 11,
   "id": "dc5dbf79",
   "metadata": {},
   "outputs": [
    {
     "data": {
      "text/plain": [
       "[['I', 'love', 'NLP.'], ['NLP', 'is', 'fun.'], ['I', 'love', 'Python']]"
      ]
     },
     "execution_count": 11,
     "metadata": {},
     "output_type": "execute_result"
    }
   ],
   "source": [
    "tokens"
   ]
  },
  {
   "cell_type": "code",
   "execution_count": 12,
   "id": "eb8afe67",
   "metadata": {},
   "outputs": [
    {
     "data": {
      "text/plain": [
       "['i', 'love', 'nlp.', 'nlp', 'is', 'fun.', 'i', 'love', 'python']"
      ]
     },
     "execution_count": 12,
     "metadata": {},
     "output_type": "execute_result"
    }
   ],
   "source": [
    "flat_tokens"
   ]
  },
  {
   "cell_type": "code",
   "execution_count": 14,
   "id": "84b3b81c",
   "metadata": {},
   "outputs": [
    {
     "name": "stdout",
     "output_type": "stream",
     "text": [
      "Vocabulary: ['fun.', 'i', 'is', 'love', 'nlp', 'nlp.', 'python']\n"
     ]
    }
   ],
   "source": [
    "vocab = sorted(set(flat_tokens))\n",
    "print(\"Vocabulary:\", vocab)"
   ]
  },
  {
   "cell_type": "code",
   "execution_count": 15,
   "id": "2de7a33a",
   "metadata": {},
   "outputs": [
    {
     "name": "stdout",
     "output_type": "stream",
     "text": [
      "Word to Index Mapping: {'fun.': 0, 'i': 1, 'is': 2, 'love': 3, 'nlp': 4, 'nlp.': 5, 'python': 6}\n"
     ]
    }
   ],
   "source": [
    "word_to_index = {word: i for i, word in enumerate(vocab)}\n",
    "print(\"Word to Index Mapping:\", word_to_index)\n"
   ]
  },
  {
   "cell_type": "code",
   "execution_count": 16,
   "id": "9ebc0e31",
   "metadata": {},
   "outputs": [],
   "source": [
    "def one_hot_encode(word, vocab_size=len(vocab)):\n",
    "    vector = [0] * vocab_size\n",
    "    vector[word_to_index[word]] = 1\n",
    "    return vector"
   ]
  },
  {
   "cell_type": "code",
   "execution_count": 17,
   "id": "b07b98a3",
   "metadata": {},
   "outputs": [
    {
     "name": "stdout",
     "output_type": "stream",
     "text": [
      "One-hot for 'nlp': [0, 0, 0, 0, 1, 0, 0]\n",
      "One-hot for 'python': [0, 0, 0, 0, 0, 0, 1]\n"
     ]
    }
   ],
   "source": [
    "print(\"One-hot for 'nlp':\", one_hot_encode(\"nlp\"))\n",
    "print(\"One-hot for 'python':\", one_hot_encode(\"python\"))"
   ]
  },
  {
   "cell_type": "code",
   "execution_count": null,
   "id": "b2fe4d40",
   "metadata": {},
   "outputs": [],
   "source": []
  }
 ],
 "metadata": {
  "kernelspec": {
   "display_name": "venv",
   "language": "python",
   "name": "python3"
  },
  "language_info": {
   "codemirror_mode": {
    "name": "ipython",
    "version": 3
   },
   "file_extension": ".py",
   "mimetype": "text/x-python",
   "name": "python",
   "nbconvert_exporter": "python",
   "pygments_lexer": "ipython3",
   "version": "3.13.5"
  }
 },
 "nbformat": 4,
 "nbformat_minor": 5
}
