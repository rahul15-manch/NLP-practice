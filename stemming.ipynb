{
 "cells": [
  {
   "cell_type": "code",
   "execution_count": 11,
   "id": "a77dbd0d",
   "metadata": {},
   "outputs": [],
   "source": [
    "words=[\"happiness\",\"eating\",\"going\",\"gone\",\"goes\",\"sadness\",\"disabled\",\"extremist\",\"programming\",\"programs\"]"
   ]
  },
  {
   "cell_type": "code",
   "execution_count": 12,
   "id": "dfe7ba5b",
   "metadata": {},
   "outputs": [],
   "source": [
    "from nltk.stem import PorterStemmer"
   ]
  },
  {
   "cell_type": "code",
   "execution_count": 35,
   "id": "fd00c370",
   "metadata": {},
   "outputs": [],
   "source": [
    "pstemming=PorterStemmer()\n"
   ]
  },
  {
   "cell_type": "code",
   "execution_count": 21,
   "id": "c8fb0fe2",
   "metadata": {},
   "outputs": [
    {
     "name": "stdout",
     "output_type": "stream",
     "text": [
      "happiness -> happi\n",
      "eating -> eat\n",
      "going -> go\n",
      "gone -> gone\n",
      "goes -> goe\n",
      "sadness -> sad\n",
      "disabled -> disabl\n",
      "extremist -> extremist\n",
      "programming -> program\n",
      "programs -> program\n"
     ]
    }
   ],
   "source": [
    "for word in words:\n",
    "    print(word, \"->\", stemming.stem(word))"
   ]
  },
  {
   "cell_type": "code",
   "execution_count": 22,
   "id": "1e607a6f",
   "metadata": {},
   "outputs": [
    {
     "data": {
      "text/plain": [
       "'congratul'"
      ]
     },
     "execution_count": 22,
     "metadata": {},
     "output_type": "execute_result"
    }
   ],
   "source": [
    "stemming.stem(\"congratulations\")"
   ]
  },
  {
   "cell_type": "code",
   "execution_count": 23,
   "id": "159fab89",
   "metadata": {},
   "outputs": [],
   "source": [
    "from nltk.stem import RegexpStemmer"
   ]
  },
  {
   "cell_type": "code",
   "execution_count": 25,
   "id": "a924a82a",
   "metadata": {},
   "outputs": [],
   "source": [
    "stemming=RegexpStemmer(\"ing$|s$|e$|able$\",min=4)"
   ]
  },
  {
   "cell_type": "code",
   "execution_count": 26,
   "id": "5d406d3f",
   "metadata": {},
   "outputs": [
    {
     "data": {
      "text/plain": [
       "'eat'"
      ]
     },
     "execution_count": 26,
     "metadata": {},
     "output_type": "execute_result"
    }
   ],
   "source": [
    "stemming.stem(\"eating\")"
   ]
  },
  {
   "cell_type": "code",
   "execution_count": 27,
   "id": "5eb67290",
   "metadata": {},
   "outputs": [
    {
     "data": {
      "text/plain": [
       "'dis'"
      ]
     },
     "execution_count": 27,
     "metadata": {},
     "output_type": "execute_result"
    }
   ],
   "source": [
    "stemming.stem(\"disable\")"
   ]
  },
  {
   "cell_type": "code",
   "execution_count": 28,
   "id": "52c2820c",
   "metadata": {},
   "outputs": [],
   "source": [
    "from nltk.stem import SnowballStemmer"
   ]
  },
  {
   "cell_type": "code",
   "execution_count": 33,
   "id": "45356937",
   "metadata": {},
   "outputs": [],
   "source": [
    "snowstemming=SnowballStemmer(\"english\")"
   ]
  },
  {
   "cell_type": "code",
   "execution_count": 34,
   "id": "79d9a610",
   "metadata": {},
   "outputs": [
    {
     "name": "stdout",
     "output_type": "stream",
     "text": [
      "happiness ----> happi\n",
      "eating ----> eat\n",
      "going ----> go\n",
      "gone ----> gone\n",
      "goes ----> goe\n",
      "sadness ----> sad\n",
      "disabled ----> disabl\n",
      "extremist ----> extremist\n",
      "programming ----> program\n",
      "programs ----> program\n"
     ]
    }
   ],
   "source": [
    "for word in words:\n",
    "    print(word, \"---->\", snowstemming.stem(word))"
   ]
  },
  {
   "cell_type": "code",
   "execution_count": 37,
   "id": "3f8df5c2",
   "metadata": {},
   "outputs": [
    {
     "data": {
      "text/plain": [
       "'fairli'"
      ]
     },
     "execution_count": 37,
     "metadata": {},
     "output_type": "execute_result"
    }
   ],
   "source": [
    "pstemming.stem(\"fairly\")"
   ]
  },
  {
   "cell_type": "code",
   "execution_count": 38,
   "id": "c6889971",
   "metadata": {},
   "outputs": [
    {
     "data": {
      "text/plain": [
       "'fair'"
      ]
     },
     "execution_count": 38,
     "metadata": {},
     "output_type": "execute_result"
    }
   ],
   "source": [
    "snowstemming.stem(\"fairly\")"
   ]
  },
  {
   "cell_type": "code",
   "execution_count": 39,
   "id": "3bd550c2",
   "metadata": {},
   "outputs": [
    {
     "data": {
      "text/plain": [
       "'sportingli'"
      ]
     },
     "execution_count": 39,
     "metadata": {},
     "output_type": "execute_result"
    }
   ],
   "source": [
    "pstemming.stem(\"sportingly\")"
   ]
  },
  {
   "cell_type": "code",
   "execution_count": 40,
   "id": "4271fc0c",
   "metadata": {},
   "outputs": [
    {
     "data": {
      "text/plain": [
       "'sport'"
      ]
     },
     "execution_count": 40,
     "metadata": {},
     "output_type": "execute_result"
    }
   ],
   "source": [
    "snowstemming.stem(\"sportingly\")"
   ]
  },
  {
   "cell_type": "code",
   "execution_count": null,
   "id": "18243761",
   "metadata": {},
   "outputs": [],
   "source": []
  }
 ],
 "metadata": {
  "kernelspec": {
   "display_name": "venv",
   "language": "python",
   "name": "python3"
  },
  "language_info": {
   "codemirror_mode": {
    "name": "ipython",
    "version": 3
   },
   "file_extension": ".py",
   "mimetype": "text/x-python",
   "name": "python",
   "nbconvert_exporter": "python",
   "pygments_lexer": "ipython3",
   "version": "3.13.5"
  }
 },
 "nbformat": 4,
 "nbformat_minor": 5
}
